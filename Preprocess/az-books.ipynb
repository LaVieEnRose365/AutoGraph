{
 "cells": [
  {
   "cell_type": "code",
   "execution_count": null,
   "metadata": {},
   "outputs": [],
   "source": [
    "import pandas as pd\n",
    "import numpy as np\n",
    "from transformers import set_seed\n",
    "from tqdm import tqdm\n",
    "import os\n",
    "import random\n",
    "import json\n",
    "\n",
    "set_seed(42)\n",
    "dataset = \"az-books\"\n",
    "source_dir = os.path.join(f\"Datasets/{dataset}\", \"proc_data\")\n",
    "target_dir = os.path.join(f\"data/{dataset}\", \"proc_data\")\n",
    "os.makedirs(target_dir, exist_ok=True)"
   ]
  },
  {
   "cell_type": "code",
   "execution_count": null,
   "metadata": {},
   "outputs": [],
   "source": [
    "save_data_file = source_dir + '/sequential_data.json'  # interaction sequence between user and item\n",
    "item2attributes_file = source_dir + '/item2attributes.json'  # item and corresponding attributes\n",
    "datamaps_file = source_dir + '/datamaps.json'  # datamap\n",
    "split_file = source_dir + '/train_test_split.json'  # train/test splitting\n",
    "\n",
    "user_items = json.load(open(save_data_file, \"r\"))\n",
    "item2attributes = json.load(open(item2attributes_file, \"r\"))\n",
    "datamaps = json.load(open(datamaps_file, \"r\"))\n",
    "itemid2title = datamaps[\"itemid2title\"]\n",
    "df = []\n",
    "\n",
    "for user, his_items in user_items.items():\n",
    "    for idx, itemid in enumerate(his_items[0]):\n",
    "        if idx == 0:\n",
    "            continue\n",
    "        row = {'User ID': user, 'Item ID': itemid, 'user history ID': his_items[0][:idx]}\n",
    "        df.append(row)\n",
    "df_data = pd.DataFrame(df)\n",
    "print(len(df_data))\n",
    "df_data.head(5)"
   ]
  },
  {
   "cell_type": "code",
   "execution_count": null,
   "metadata": {},
   "outputs": [],
   "source": [
    "user_fields = [\"User ID\"]\n",
    "item_fields = [\"Item ID\", \"Brand 1\", \"Brand 2\"]\n",
    "\n",
    "user_feat_count = [len(datamaps[\"user2id\"]) + 1]\n",
    "item_feat_count = [len(datamaps[\"item2id\"]) + 1,  2062 + 1, 35]\n",
    "\n",
    "user_feat_offset = [0]\n",
    "item_feat_offset = [0, item_feat_count[0], item_feat_count[0]]\n",
    "\n",
    "\n",
    "print(\"---------------------------------------------------------------\")\n",
    "for f, fc, fo in zip(user_fields, user_feat_count, user_feat_offset):\n",
    "    print(f, fc, fo)\n",
    "    \n",
    "print(\"---------------------------------------------------------------\")\n",
    "\n",
    "for f, fc, fo in zip(item_fields, item_feat_count, item_feat_offset):\n",
    "    print(f, fc, fo)\n",
    "print(\"---------------------------------------------------------------\")\n",
    "\n",
    "\n",
    "item_feats_table = [[0, 0, 0]] + [([k] + item2attributes[str(k)]) for k in range(1, len(item2attributes) + 1)]\n"
   ]
  },
  {
   "cell_type": "code",
   "execution_count": null,
   "metadata": {},
   "outputs": [],
   "source": [
    "df_data = df_data[df_data[\"user history ID\"].apply(lambda x: len(x)) >= 5].reset_index(drop=True)\n",
    "df_item = pd.DataFrame({\n",
    "    \"Item ID\": [int(k) for k in item2attributes.keys()],\n",
    "    \"Brand 1\": [item2attributes[k][0] for k in item2attributes.keys()],\n",
    "    \"Brand 2\": [item2attributes[k][1] for k in item2attributes.keys()],\n",
    "})\n",
    "\n",
    "df_data = pd.merge(df_data, df_item, on=[\"Item ID\"], how=\"inner\")\n",
    "\n",
    "print(len(df_data))\n",
    "df_data.head()"
   ]
  },
  {
   "cell_type": "code",
   "execution_count": null,
   "metadata": {},
   "outputs": [],
   "source": [
    "for field in user_fields + item_fields:\n",
    "    df_data[field] = df_data[field].apply(lambda x: int(x))\n",
    "\n",
    "df_data[\"user history ID\"] = df_data[\"user history ID\"].apply(lambda x: [int(k) for k in x])\n"
   ]
  },
  {
   "cell_type": "code",
   "execution_count": null,
   "metadata": {},
   "outputs": [],
   "source": [
    "valid_idx = []\n",
    "test_idx = []\n",
    "\n",
    "for uid, df_u in tqdm(df_data.groupby([\"User ID\"])):\n",
    "    valid_idx.append(df_u.tail(2).index[0])\n",
    "    test_idx.append(df_u.tail(1).index[0])\n",
    "\n",
    "valid_idx = sorted(valid_idx)\n",
    "test_idx = sorted(test_idx)\n",
    "train_idx = sorted(list(set(range(len(df_data))) - set(valid_idx + test_idx)))\n",
    "\n",
    "df_train = df_data.iloc[train_idx].reset_index(drop=True)\n",
    "df_valid = df_data.iloc[valid_idx].reset_index(drop=True)\n",
    "df_test = df_data.iloc[test_idx].reset_index(drop=True)"
   ]
  },
  {
   "cell_type": "code",
   "execution_count": null,
   "metadata": {},
   "outputs": [],
   "source": [
    "train_num = len(df_train)\n",
    "valid_num = len(df_valid)\n",
    "test_num = len(df_test)\n",
    "print(\"Num train/valid/test:\", train_num, valid_num, test_num)\n",
    "\n",
    "df_train.to_parquet(os.path.join(target_dir, \"train.parquet.gz\"), compression=\"gzip\")\n",
    "df_valid.to_parquet(os.path.join(target_dir, \"valid.parquet.gz\"), compression=\"gzip\")\n",
    "df_test.to_parquet(os.path.join(target_dir, \"test.parquet.gz\"), compression=\"gzip\")\n",
    "\n",
    "df_train.head()"
   ]
  },
  {
   "cell_type": "code",
   "execution_count": null,
   "metadata": {},
   "outputs": [],
   "source": [
    "movie_to_users = {i: [] for i in range(item_feat_count[0])}\n",
    "movie_to_users[0] = [0]\n",
    "\n",
    "for idx, row in tqdm(df_train.iterrows()):\n",
    "    movie_to_users[row[\"Item ID\"]].append(row[\"User ID\"])\n",
    "\n",
    "movie_to_users = [list(set(movie_to_users[i])) for i in range(item_feat_count[0])]"
   ]
  },
  {
   "cell_type": "code",
   "execution_count": null,
   "metadata": {},
   "outputs": [],
   "source": [
    "meta_data = {\n",
    "    \"user_fields\": user_fields,\n",
    "    \"item_fields\": item_fields,\n",
    "    \"user_feat_count\": user_feat_count,\n",
    "    \"item_feat_count\": item_feat_count,\n",
    "    \"user_feat_offset\": user_feat_offset,\n",
    "    \"item_feat_offset\": item_feat_offset,\n",
    "    \"item_feats_table\": item_feats_table,\n",
    "    \"feature_dict\": datamaps,\n",
    "    \"item_to_users\": movie_to_users\n",
    "}\n",
    "\n",
    "json.dump(meta_data, open(os.path.join(target_dir, \"match-meta.json\"), \"w\"), ensure_ascii=False)"
   ]
  },
  {
   "cell_type": "code",
   "execution_count": null,
   "metadata": {},
   "outputs": [],
   "source": [
    "import torch\n",
    "from torch.nn.utils.rnn import pad_sequence\n",
    "\n",
    "df_data = pd.concat([df_train, df_valid, df_test]).reset_index(drop=True)\n",
    "\n",
    "user_X = []\n",
    "item_X = []\n",
    "\n",
    "for idx, row in tqdm(df_data.iterrows()):\n",
    "    user_X.append([row[field] for field in user_fields])\n",
    "    item_X.append([row[field] for field in item_fields])\n",
    "\n",
    "hist_ID = df_data[\"user history ID\"].tolist()\n",
    "hist_length = [len(x) for x in hist_ID]\n",
    "\n",
    "user_X = np.array(user_X)\n",
    "item_X = np.array(item_X)\n",
    "\n",
    "hist_ID = pad_sequence(\n",
    "    [torch.tensor(x[-30:]) for x in hist_ID], \n",
    "    batch_first=True,\n",
    ")\n",
    "\n",
    "hist_mask = pad_sequence(\n",
    "    [torch.ones(min(x, 30)) for x in hist_length], \n",
    "    batch_first=True,\n",
    ")\n",
    "\n",
    "print(\"user_X\", user_X.shape)\n",
    "print(\"item_X\", item_X.shape)\n",
    "print(\"hist_ID\", hist_ID.shape)\n",
    "print(\"hist_mask\", hist_mask.shape)"
   ]
  },
  {
   "cell_type": "code",
   "execution_count": null,
   "metadata": {},
   "outputs": [],
   "source": [
    "import h5py\n",
    "\n",
    "with h5py.File(os.path.join(target_dir, f\"match.h5\"), \"w\") as hf:\n",
    "    hf.create_dataset(\"train user data\", data=user_X[:train_num, :])\n",
    "    hf.create_dataset(\"valid user data\", data=user_X[train_num:train_num+valid_num, :])\n",
    "    hf.create_dataset(\"test user data\", data=user_X[train_num+valid_num:, :])\n",
    "\n",
    "    hf.create_dataset(\"train item data\", data=item_X[:train_num, :])\n",
    "    hf.create_dataset(\"valid item data\", data=item_X[train_num:train_num+valid_num, :])\n",
    "    hf.create_dataset(\"test item data\", data=item_X[train_num+valid_num:, :])\n",
    "\n",
    "    hf.create_dataset(\"train history ID\", data=hist_ID[:train_num, :])\n",
    "    hf.create_dataset(\"valid history ID\", data=hist_ID[train_num:train_num+valid_num, :])\n",
    "    hf.create_dataset(\"test history ID\", data=hist_ID[train_num+valid_num:, :])\n",
    "\n",
    "    hf.create_dataset(\"train history mask\", data=hist_mask[:train_num, :])\n",
    "    hf.create_dataset(\"valid history mask\", data=hist_mask[train_num:train_num+valid_num, :])\n",
    "    hf.create_dataset(\"test history mask\", data=hist_mask[train_num+valid_num:, :])\n"
   ]
  }
 ],
 "metadata": {
  "kernelspec": {
   "display_name": "myDGL",
   "language": "python",
   "name": "python3"
  },
  "language_info": {
   "codemirror_mode": {
    "name": "ipython",
    "version": 3
   },
   "file_extension": ".py",
   "mimetype": "text/x-python",
   "name": "python",
   "nbconvert_exporter": "python",
   "pygments_lexer": "ipython3",
   "version": "3.10.13"
  }
 },
 "nbformat": 4,
 "nbformat_minor": 2
}
